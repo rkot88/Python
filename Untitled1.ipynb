{
  "nbformat": 4,
  "nbformat_minor": 0,
  "metadata": {
    "colab": {
      "name": "Untitled1.ipynb",
      "version": "0.3.2",
      "provenance": [],
      "collapsed_sections": [],
      "include_colab_link": true
    },
    "kernelspec": {
      "name": "python3",
      "display_name": "Python 3"
    }
  },
  "cells": [
    {
      "cell_type": "markdown",
      "metadata": {
        "id": "view-in-github",
        "colab_type": "text"
      },
      "source": [
        "[View in Colaboratory](https://colab.research.google.com/github/rkot88/Python/blob/master/Untitled1.ipynb)"
      ]
    },
    {
      "metadata": {
        "id": "8Ey02jwnqL2Z",
        "colab_type": "code",
        "colab": {
          "base_uri": "https://localhost:8080/",
          "height": 17
        },
        "outputId": "330c36db-e842-423d-ae9d-eacc85ca24d7"
      },
      "cell_type": "code",
      "source": [
        "'''Extract datetimes from log entries and calculate the time\n",
        "   between the first and last shutdown events'''\n",
        "from datetime import datetime\n",
        "import os\n",
        "import urllib.request\n",
        "\n",
        "SHUTDOWN_EVENT = 'Shutdown initiated'\n",
        "\n",
        "# prep: read in the logfile\n",
        "logfile = os.path.join('/tmp', 'log')\n",
        "urllib.request.urlretrieve('http://bit.ly/2AKSIbf', logfile)\n",
        "\n",
        "with open(logfile) as f:\n",
        "    loglines = f.readlines()\n",
        "\n",
        "\n",
        "# for you to code:\n",
        "\n",
        "def convert_to_datetime(line):\n",
        "    '''TODO 1:\n",
        "       Given a log line extract its timestamp and convert it to a datetime object.\n",
        "       For example calling the function with:\n",
        "       INFO 2014-07-03T23:27:51 supybot Shutdown complete.\n",
        "       returns:\n",
        "       datetime(2014, 7, 3, 23, 27, 51)'''\n",
        "    line = line.split(' ')\n",
        "    date_str = line[1]\n",
        "    date_obj = datetime.strptime(date_str, \"%Y-%m-%dT%H:%M:%S\")\n",
        "    return date_obj\n",
        "\n",
        "\n",
        "def time_between_shutdowns(loglines):\n",
        "    '''TODO 2:\n",
        "       Extract shutdown events (\"Shutdown initiated\") from loglines and calculate the \n",
        "       timedelta between the first and last one. \n",
        "       Return this datetime.timedelta object.'''\n",
        "\n",
        "    my_list = [x for x in loglines if SHUTDOWN_EVENT in x]\n",
        "\n",
        "    first_element = convert_to_datetime(my_list[0])\n",
        "    last_element = convert_to_datetime(my_list[-1])\n",
        "\n",
        "    return last_element - first_element\n"
      ],
      "execution_count": 55,
      "outputs": []
    },
    {
      "metadata": {
        "id": "FWXwE2BFwv0Z",
        "colab_type": "code",
        "colab": {
          "base_uri": "https://localhost:8080/",
          "height": 37
        },
        "outputId": "00e4aed7-48e7-4cc8-b1b4-8cb8a31c0d5a"
      },
      "cell_type": "code",
      "source": [
        "from datetime import datetime, timedelta\n",
        "\n",
        "\n",
        "def test_convert_to_datetime():\n",
        "    line1 = 'ERROR 2014-07-03T23:24:31 supybot Invalid user dictionary file'\n",
        "    line2 = 'INFO 2015-10-03T10:12:51 supybot Shutdown initiated.'\n",
        "    line3 = 'INFO 2016-09-03T02:11:22 supybot Shutdown complete.'\n",
        "    assert convert_to_datetime(line1) == datetime(2014, 7, 3, 23, 24, 31)\n",
        "    assert convert_to_datetime(line2) == datetime(2015, 10, 3, 10, 12, 51)\n",
        "    assert convert_to_datetime(line3) == datetime(2016, 9, 3, 2, 11, 22)\n",
        "\n",
        "\n",
        "def test_time_between_events():\n",
        "    diff = time_between_shutdowns(loglines)\n",
        "    assert type(diff) == timedelta\n",
        "    assert str(diff) == '0:03:31'"
      ],
      "execution_count": 56,
      "outputs": []
    },
    {
      "metadata": {
        "id": "zWri9_BXiSgS",
        "colab_type": "code",
        "colab": {}
      },
      "cell_type": "code",
      "source": [
        ""
      ],
      "execution_count": 0,
      "outputs": []
    }
  ]
}